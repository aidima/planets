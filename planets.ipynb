{
 "cells": [
  {
   "cell_type": "markdown",
   "metadata": {},
   "source": [
    "NAME: __________________        CLASS: __________________     DATE: __________________"
   ]
  },
  {
   "cell_type": "markdown",
   "metadata": {},
   "source": [
    "# Planets\n",
    "\n",
    "© Dimitrios Theodorakis GNU General Public License v3.0 \u000b",
    "\n",
    "https://github.com/DimitriosAstro/Astronomy"
   ]
  },
  {
   "cell_type": "code",
   "execution_count": null,
   "metadata": {},
   "outputs": [],
   "source": [
    "import numpy as np\n",
    "import pandas as pd\n",
    "import matplotlib.pyplot as plt \n",
    "from IPython.display import Image\n",
    "%matplotlib inline"
   ]
  },
  {
   "cell_type": "markdown",
   "metadata": {},
   "source": [
    "### AIM - Analyse data on planets and exoplanets, make predictions from our plots, visualise Kepler data\n",
    "Difficulty: Easy\n",
    "\n",
    "**Predict**\n",
    "\n",
    "Have a think about these questions and make some predictions! Be sure to tell someone else what you predict.\n",
    "\n",
    "1) Are the densities of the rocky planets similar?  \n",
    "2) Why are Jupiter, Saturn, Uranus, and Neptune split into two groups?  \n",
    "3) Do you think it's easier for Kepler to detect Earth or Jupiter size exoplanets?"
   ]
  },
  {
   "cell_type": "markdown",
   "metadata": {},
   "source": [
    "**Enter your predictions:**    \n",
    "1)    \n",
    "2)    \n",
    "3)    "
   ]
  },
  {
   "cell_type": "markdown",
   "metadata": {},
   "source": [
    "## Contents\n",
    "\n",
    "* [Start](#Start)\n",
    "* [Mass vs Distance Plot](#MassvsDistancePlot)\n",
    "* [Radius vs Distance Plot](#RadiusvsDistancePlot)\n",
    "* [Density vs Distance Plot](#DensityvsDistancePlot)\n",
    "* [Density vs Radius Plot](#DensityvsRadiusPlot)\n",
    "* [Radius vs Distance with Exoplanets Plot](#RadiusExovsDistancePlot)\n",
    "* [Mass vs Distance with Exoplanets Plot](#MassExovsDistancePlot)\n",
    "* [Question Answers](#Answers)\n",
    "* [Challenges](#Challenges)\n",
    "* [References](#References)\n",
    "\n",
    "\n",
    "# Let's go: Plotting planetary data <a class=\"anchor\" id=\"Start\"></a>\n",
    "\n",
    "The file **planets.csv** has some basic data about the planets, Pluto, the Galilean Moons, and Charon. Let's load it and print some of the data:"
   ]
  },
  {
   "cell_type": "code",
   "execution_count": null,
   "metadata": {},
   "outputs": [],
   "source": [
    "file = 'planets.csv'\n",
    "df = pd.read_csv(file)\n",
    "\n",
    "print(df.head())\n",
    "print(df.columns)"
   ]
  },
  {
   "cell_type": "markdown",
   "metadata": {},
   "source": [
    "The ```df.columns``` code returned the header values. You can see we have data such as temperature, diameter, mass, and whether the planet/moon has a magnetic field! (Some data is missing for the moons in the file)\n",
    "\n",
    "Let's make some plots. Complete the code block below to make a plot of the mass vs distance from the sun for the eight planets: <a class=\"anchor\" id=\"MassvsDistancePlot\"></a>"
   ]
  },
  {
   "cell_type": "code",
   "execution_count": null,
   "metadata": {},
   "outputs": [],
   "source": [
    "AU = 1.495978707*10**11\n",
    "\n",
    "# The planet name!\n",
    "names = df['planet'].values\n",
    "# is it a moon? 'y' or 'n'\n",
    "moon = df['moon'].values\n",
    "# colors for plotting the planets\n",
    "colors = ['silver', 'papayawhip', 'forestgreen', 'dimgrey', 'crimson', 'peachpuff', 'navajowhite', 'lightskyblue', 'cornflowerblue', 'slategrey', 'khaki', 'lightcyan', 'burlywood', 'lemonchiffon', 'darkslategrey']\n",
    "# scale the marker sizes based on the diameter of the planet \n",
    "sizes = df['diameter'].values/12756*100\n",
    "\n",
    "# set up a new figure and axis\n",
    "fig = plt.figure(num=1, figsize=(8, 4))\n",
    "ax = plt.subplot(111)\n",
    "\n",
    "# get the mass values and divide them by the value for the Earth\n",
    "# Your code here:\n",
    "mass = '''Enter the mass here and divide it by 5.97'''\n",
    "# get the avg_dist and convert to AU \n",
    "# note the distances are stored as 10**6 km so convert to m first then to AU\n",
    "# Your code here:\n",
    "avg_dist = '''Enter the distance here, times by 10**9 then divide by AU'''\n",
    "\n",
    "# for each planet plot it\n",
    "# do not plot moons or Pluto!\n",
    "for i in range(len(names)):\n",
    "    if (moon[i] == 'n') and (names[i] != 'Pluto'):\n",
    "        # complete the next line\n",
    "        # Your code here:\n",
    "        '''Plot each planet using ax.scatter(x, y, color etc.) with avg_dist[i] and mass[i]\n",
    "        part of the code has been completed already!'''\n",
    "        ax.scatter(, , color=colors[i], label=names[i], sizes=[sizes[i]], alpha=0.75, ec='None')\n",
    "\n",
    "# set the scale of both axes to be log\n",
    "# Your code here:\n",
    "'''Use the ax.set_xscale() function'''\n",
    "'''Use the ax.set_yscale() function'''\n",
    "\n",
    "# give your plot axis labels\n",
    "# Your code here:\n",
    "'''Use the ax.set_xlabel() function'''\n",
    "'''Use the ax.set_ylabel() function'''\n",
    "\n",
    "# tidying up the plot\n",
    "ax.spines['right'].set_visible(False)\n",
    "ax.spines['top'].set_visible(False)\n",
    "ax.set_ylim(0, 1000)\n",
    "ax.spines['bottom'].set_color('grey')\n",
    "ax.spines['left'].set_color('grey')\n",
    "ax.tick_params(axis='both', which='both', colors='darkgrey')\n",
    "\n",
    "# sorting out the legend\n",
    "leg = ax.legend(frameon=False, loc='center', bbox_to_anchor=(1.2, 0.5), handletextpad=1, labelspacing=1.25)\n",
    "plt.setp(leg.get_texts(), color='grey')\n",
    "plt.tight_layout()"
   ]
  },
  {
   "cell_type": "markdown",
   "metadata": {},
   "source": [
    "Use your plot to answer the following Q's. Answers are in their own section before the Challenges.\n",
    "\n",
    "1) What trends are there in the mass vs distance figure?  \n",
    "2) Which planet is similar to the Earth?  "
   ]
  },
  {
   "cell_type": "markdown",
   "metadata": {},
   "source": [
    "**Enter your answers:**    \n",
    "1)    \n",
    "2)"
   ]
  },
  {
   "cell_type": "markdown",
   "metadata": {},
   "source": [
    "Once you've taken some time to answer those questions we're going to make two more plots. One of the radius of the planet vs the average distance and one of the density vs radius of the planet. Complete the two code blocks below to make the plots and again attempt the questions that follow them. <a class=\"anchor\" id=\"RadiusvsDistancePlot\"></a>"
   ]
  },
  {
   "cell_type": "code",
   "execution_count": null,
   "metadata": {},
   "outputs": [],
   "source": [
    "# setup a new figure and axis instance\n",
    "# Your code here:\n",
    "fig = plt.figure(num=2, figsize=(8, 4))\n",
    "ax = '''copy from the cell above!!!'''\n",
    "\n",
    "# get the radii and scale to Earths radius\n",
    "# remember the csv contains diamters not radii\n",
    "# Your code here:\n",
    "radii = '''Get each diameter value and divide by two then divide by 12756/2'''\n",
    "\n",
    "# for each planet plot a scatter point\n",
    "for i in range(len(names)):\n",
    "    # don't plot moons or Pluto\n",
    "    if (moon[i] == 'n') and (names[i] != 'Pluto'):\n",
    "        # Your code here:\n",
    "        '''Plot each planet using ax.scatter() with avg_dist[i] and radii[i]'''\n",
    "\n",
    "ax.set_yscale('log')\n",
    "ax.set_xscale('log')\n",
    "\n",
    "# set the right and top spine to not be visible\n",
    "# Your code here:\n",
    "'''Check the code block above for the answer!'''\n",
    "\n",
    "ax.set_ylim(0, 100)\n",
    "ax.set_xlabel('Orbital distance relative to the Earth', labelpad=10, color='grey')\n",
    "ax.set_ylabel('Radius relative to the Earth', color='grey', labelpad=5)\n",
    "\n",
    "# set the colors and ticks on the graph like before\n",
    "# use different colors this time\n",
    "# extra: make the minor and major ticks differnet colors\n",
    "ax.spines['bottom'].set_color('grey')\n",
    "ax.spines['left'].set_color('grey')\n",
    "ax.tick_params(axis='both', which='both', colors='darkgrey')\n",
    "\n",
    "# sort out the legend\n",
    "leg = ax.legend(frameon=False, loc='center', bbox_to_anchor=(1.2, 0.5), handletextpad=1, labelspacing=1.25)\n",
    "plt.setp(leg.get_texts(), color='grey')\n",
    "plt.tight_layout()"
   ]
  },
  {
   "cell_type": "markdown",
   "metadata": {},
   "source": [
    "**Questions:**\n",
    "\n",
    "3) Are the planets grouped similarly to the last plot of mass vs average distance?  \n",
    "\n",
    "<a class=\"anchor\" id=\"DensityvsDistancePlot\"></a>"
   ]
  },
  {
   "cell_type": "markdown",
   "metadata": {},
   "source": [
    "**Enter your answers:**    \n",
    "3)    "
   ]
  },
  {
   "cell_type": "code",
   "execution_count": null,
   "metadata": {},
   "outputs": [],
   "source": [
    "# create a new figure instance\n",
    "# Your code here:\n",
    "'''Hint: See how it was done in the first code block and change num=3'''\n",
    "\n",
    "# scale the density to that of the Earth\n",
    "# Your code here:\n",
    "'''Get the density values and divide them by 5514'''\n",
    "\n",
    "# plot the points\n",
    "for i in range(len(names)):\n",
    "    # Your code here:\n",
    "    '''complete the inner if look like the last code cell\n",
    "    then add in your ax.scatter() call'''\n",
    "\n",
    "# tidy up the axes and create the legend\n",
    "ax.set_yscale('log')\n",
    "ax.set_xscale('log')\n",
    "ax.spines['right'].set_visible(False)\n",
    "ax.spines['top'].set_visible(False)\n",
    "ax.set_xlabel('Orbital distance relative to the Earth', labelpad=10, color='grey')\n",
    "ax.set_ylabel('Density relative to the Earth', color='grey', labelpad=10)\n",
    "ax.spines['bottom'].set_color('grey')\n",
    "ax.spines['left'].set_color('grey')\n",
    "ax.tick_params(axis='both', which='both', colors='darkgrey')\n",
    "\n",
    "leg = ax.legend(frameon=False, loc='center', bbox_to_anchor=(1.2, 0.5), handletextpad=1, labelspacing=1.25)\n",
    "plt.setp(leg.get_texts(), color='grey')\n",
    "plt.tight_layout()"
   ]
  },
  {
   "cell_type": "markdown",
   "metadata": {},
   "source": [
    "**Questions:**\n",
    "\n",
    "4) Why are the density of the gas gaints lower?  \n",
    "5) Why is the density of Saturn lower than Jupiter?  "
   ]
  },
  {
   "cell_type": "markdown",
   "metadata": {},
   "source": [
    "**Enter your answers:**    \n",
    "4)    \n",
    "5)"
   ]
  },
  {
   "cell_type": "markdown",
   "metadata": {},
   "source": [
    "Load the next few plots which have been pre-prepared for you. The first is a plot of density vs radius for the eight planets. The second and third are plots of radius vs distance and mass vs distance respectively but with Kepler exoplanet data included!\n",
    "\n",
    "<a class=\"anchor\" id=\"DensityvsRadiusPlot\"></a>"
   ]
  },
  {
   "cell_type": "code",
   "execution_count": null,
   "metadata": {},
   "outputs": [],
   "source": [
    "Image('density_vs_radius_planets.png')"
   ]
  },
  {
   "cell_type": "markdown",
   "metadata": {},
   "source": [
    "**Questions:**\n",
    "\n",
    "6) Does Mercury look out of place in this plot?  \n",
    "7) What do you think the dashed line is?\n",
    "\n",
    "<a class=\"anchor\" id=\"RadiusExovsDistancePlot\"></a>"
   ]
  },
  {
   "cell_type": "markdown",
   "metadata": {},
   "source": [
    "**Enter your answers:**    \n",
    "6)    \n",
    "7)"
   ]
  },
  {
   "cell_type": "code",
   "execution_count": null,
   "metadata": {},
   "outputs": [],
   "source": [
    "Image('radius_vs_distance_exoplanets.png')"
   ]
  },
  {
   "cell_type": "markdown",
   "metadata": {},
   "source": [
    "**Questions:**\n",
    "    \n",
    "8) What differences are there between the exoplanets detected by Kepler using the 'Transit' vs the 'Imaging' method?\n",
    "\n",
    "<a class=\"anchor\" id=\"MassExovsDistancePlot\"></a>"
   ]
  },
  {
   "cell_type": "markdown",
   "metadata": {},
   "source": [
    "**Enter your answers:**    \n",
    "8)    "
   ]
  },
  {
   "cell_type": "code",
   "execution_count": null,
   "metadata": {},
   "outputs": [],
   "source": [
    "Image('mass_vs_distance_exoplanets.png')"
   ]
  },
  {
   "cell_type": "markdown",
   "metadata": {},
   "source": [
    "**Questions:**\n",
    "\n",
    "9) Again what differences are there between the exoplanets found by the four different methods?  \n",
    "10) Are we finding many Earh-like exoplanets?"
   ]
  },
  {
   "cell_type": "markdown",
   "metadata": {},
   "source": [
    "**Enter your answers:**    \n",
    "9)    \n",
    "10)"
   ]
  },
  {
   "cell_type": "markdown",
   "metadata": {},
   "source": [
    "The **exoplanets.csv** and **exoplanets_microlensing.csv** files contain the data used to plot the last two figures. There are other methods for detecting exoplanets which I have not plotted. You might like to delve into the csvs later and make new plots showing data I omitted.\n",
    "\n",
    "## Answers <a class=\"anchor\" id=\"Answers\"></a>\n",
    "\n",
    "**1) What trends are there in the mass vs distance figure?**  \n",
    "\n",
    "There are two distinct groups, one for the rocky planets and one for the gas giants. The mass of a planet in general increases with distance from the sun.\n",
    "\n",
    "**2) Which planet is similar to the Earth?**  \n",
    "\n",
    "Venus is the most similar having roughly the same mass and radius (it's a bit smaller).\n",
    "\n",
    "**3) Are the planets grouped similarly to the last plot of mass vs average distance?** \n",
    "\n",
    "Yes! Radius and Mass are related via density which is plotted in the third to last figure. Within the two planetary groups the densities are similar.\n",
    "\n",
    "**4) Why are the density of the gas gaints lower?**  \n",
    "\n",
    "The gas giants are made up of mainly gases (hydrogen and helium) where the rocky planets are mainly made from rocks/silicate material with heavy iron cores.\n",
    "\n",
    "**5) Why is the density of Saturn lower than Jupiter?**  \n",
    "\n",
    "Jupiter is bigger and hence it has a stronger gravitational field to compact the material it's made from so it has a higher density. You will see in the Planetary Interiors notebook that Jupiter has a much larger layer of highly compressed 'metallic' hydrogen inside.\n",
    "\n",
    "**6) Does Mercury look out of place in this plot?** \n",
    "\n",
    "Yes it does not follow the same trendline as the other rocky planets.\n",
    "\n",
    "**7) What do you think the dashed line is?**\n",
    "\n",
    "This trendline is for planets that are like Earth, Mars, and Venus which have similar interiors and compositions. You will see why Mercury deviates from this line in the Planetary Interiors notebook when you plot the size of its layers against the other rocky planets.\n",
    "\n",
    "**8) What differences are there between the exoplanets detected by Kepler using the 'Transit' vs the 'Imaging' method?**\n",
    "\n",
    "Detecting exoplanets is hard! The imaging method is where we have directly photographed the exoplanet. This favours very high mass Jupiter like planets which are far away from the host star. The transit method, where a dip in the light recieved by the host star is detected when the planet passes across the face of the star, favours larger and heavier planets which are very close to the host star. These are observational biases. It does not mean there are few Earth sized planets at roughly the same distance from their host star as the Earth, just that our current methods are biased towards finding much bigger planets.\n",
    "\n",
    "**9) Again what differences are there between the exoplanets found by the four different methods?**  \n",
    "\n",
    "The different methods are biased towards different sizes and masses of exoplanets at different distances. \n",
    "\n",
    "**10) Are we finding many Earth-like exoplanets?**\n",
    "\n",
    "It looks like we know of a few exoplanets of a similar radius to the Earth but most have a higher mass and/or are much closer to their host star than the Earth is to the sun.\n",
    "\n",
    "# Challenge <a class=\"anchor\" id=\"Challenges\"></a>\n",
    "\n",
    "1) Recreate any of the last three plots.  \n",
    "2) Make similar plots but for the moons in the data file or include Pluto and see where it fits in.  \n",
    "3) There are more exoplanet detection methods in the Kepler data files. Make plots of the exoplanets discovered with them and note what sort of planet they are biased towards finding (large Jupiter like, far from the host or perhaps very close - a so called hot Jupiter).\n",
    "\n",
    "# References <a class=\"anchor\" id=\"References\"></a>\n",
    "\n",
    "Cynthia Phillips - Planets and Satellites activities [https://www.noao.edu/jagi/sepo/education/plansat/ssgraph1.html](https://www.noao.edu/jagi/sepo/education/plansat/ssgraph1.html)  \n",
    "Cynthia Phillips - Solar System Parameters [https://www.noao.edu/jagi/sepo/education/plansat/table.html](https://www.noao.edu/jagi/sepo/education/plansat/table.html)  \n",
    "David R. Williams - NASA Planetary Factsheet [https://nssdc.gsfc.nasa.gov/planetary/factsheet/](https://nssdc.gsfc.nasa.gov/planetary/factsheet/)  \n",
    "NASA Exoplanet archive, IPAC/Caltech [here - https://exoplanetarchive.ipac.caltech.edu/docs/program_interfaces.html](https://exoplanetarchive.ipac.caltech.edu/docs/program_interfaces.html)"
   ]
  }
 ],
 "metadata": {
  "kernelspec": {
   "display_name": "Python 3",
   "language": "python",
   "name": "python3"
  },
  "language_info": {
   "codemirror_mode": {
    "name": "ipython",
    "version": 3
   },
   "file_extension": ".py",
   "mimetype": "text/x-python",
   "name": "python",
   "nbconvert_exporter": "python",
   "pygments_lexer": "ipython3",
   "version": "3.6.10"
  }
 },
 "nbformat": 4,
 "nbformat_minor": 4
}
